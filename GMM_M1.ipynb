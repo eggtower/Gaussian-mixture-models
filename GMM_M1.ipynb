{
 "cells": [
  {
   "cell_type": "markdown",
   "id": "9bc1f4c6",
   "metadata": {},
   "source": [
    "## Import"
   ]
  },
  {
   "cell_type": "code",
   "execution_count": 1,
   "id": "418dd502",
   "metadata": {},
   "outputs": [],
   "source": [
    "import pandas as pd\n",
    "import numpy as np\n",
    "import cv2 as cv\n",
    "from matplotlib import pyplot as plt\n",
    "from sklearn.mixture import GaussianMixture as GMM\n",
    "from sklearn.metrics import silhouette_score"
   ]
  },
  {
   "cell_type": "markdown",
   "id": "f21a4c8f",
   "metadata": {},
   "source": [
    "## Scenario 1:\n",
    "以 soccer1.jpg 中的場地 pixel 建構 GMM，稱此模型為 M1，並以 soccer1.jpg 做測試"
   ]
  },
  {
   "cell_type": "code",
   "execution_count": 2,
   "id": "acfe2011",
   "metadata": {},
   "outputs": [
    {
     "data": {
      "text/plain": [
       "(225, 400, 3)"
      ]
     },
     "execution_count": 2,
     "metadata": {},
     "output_type": "execute_result"
    }
   ],
   "source": [
    "img = cv.imread('soccer1.jpg')\n",
    "img.shape"
   ]
  },
  {
   "cell_type": "code",
   "execution_count": 3,
   "id": "ab32ae7e",
   "metadata": {},
   "outputs": [
    {
     "data": {
      "text/plain": [
       "(90000, 3)"
      ]
     },
     "execution_count": 3,
     "metadata": {},
     "output_type": "execute_result"
    }
   ],
   "source": [
    "soccer1 = img.reshape((-1,3))\n",
    "soccer1.shape"
   ]
  },
  {
   "cell_type": "markdown",
   "id": "d3c59c18",
   "metadata": {},
   "source": [
    "### Model building by soccer1.jpg"
   ]
  },
  {
   "cell_type": "code",
   "execution_count": 4,
   "id": "3c99f74d",
   "metadata": {},
   "outputs": [],
   "source": [
    "GMM_model = GMM(n_components=2, covariance_type='tied').fit(soccer1)"
   ]
  },
  {
   "cell_type": "markdown",
   "id": "e7ddedf4",
   "metadata": {},
   "source": [
    "### Test by soccer1.jpg"
   ]
  },
  {
   "cell_type": "code",
   "execution_count": 5,
   "id": "a774a0cf",
   "metadata": {},
   "outputs": [
    {
     "data": {
      "text/plain": [
       "(90000,)"
      ]
     },
     "execution_count": 5,
     "metadata": {},
     "output_type": "execute_result"
    }
   ],
   "source": [
    "prediction1 = GMM_model.predict(soccer1)\n",
    "prediction1.shape"
   ]
  },
  {
   "cell_type": "markdown",
   "id": "563b29f2",
   "metadata": {},
   "source": [
    "### Evaluation\n",
    "使用 `sklearn.metrics` 的 `silhouette_score()` 方法\n",
    "\n",
    "> Compute the mean Silhouette Coefficient of all samples.\n",
    "> The Silhouette Coefficient is calculated using the mean intra-cluster distance (a) and the mean nearest-cluster distance (b) for each sample. The Silhouette Coefficient for a sample is (b - a) / max(a, b).\n",
    "> The best value is 1 and the worst value is -1.\n",
    "\n",
    "[sklearn.metrics.silhouette_score - scikit-learn 1.0.2 documentation](https://scikit-learn.org/stable/modules/generated/sklearn.metrics.silhouette_score.html#sklearn.metrics.silhouette_score)\n"
   ]
  },
  {
   "cell_type": "code",
   "execution_count": 6,
   "id": "b818628a",
   "metadata": {},
   "outputs": [],
   "source": [
    "soccer1_mask = pd.read_csv('soccer1_mask.csv',)\n",
    "test1 = np.array(soccer1_mask['GT (True/False)'])\n",
    "test1 = test1.reshape((-1, 1))"
   ]
  },
  {
   "cell_type": "code",
   "execution_count": 7,
   "id": "78388a24",
   "metadata": {},
   "outputs": [
    {
     "name": "stdout",
     "output_type": "stream",
     "text": [
      "Scenario 1 GMM silhouette score:  0.8729107464016644\n"
     ]
    }
   ],
   "source": [
    "print(\"Scenario 1 GMM silhouette score: \", silhouette_score(test1, prediction1))"
   ]
  },
  {
   "cell_type": "markdown",
   "id": "0402fb45",
   "metadata": {},
   "source": [
    "### Segmentation result"
   ]
  },
  {
   "cell_type": "code",
   "execution_count": 13,
   "id": "6cf0a74d",
   "metadata": {},
   "outputs": [
    {
     "data": {
      "text/plain": [
       "<matplotlib.image.AxesImage at 0x23521ea8788>"
      ]
     },
     "execution_count": 13,
     "metadata": {},
     "output_type": "execute_result"
    },
    {
     "data": {
      "image/png": "[encoded data removed]",
      "text/plain": [
       "<Figure size 432x288 with 1 Axes>"
      ]
     },
     "metadata": {
      "needs_background": "light"
     },
     "output_type": "display_data"
    }
   ],
   "source": [
    "prediction1 = prediction1.reshape(img.shape[0],img.shape[1])\n",
    "pred1_mask = []\n",
    "for i in prediction1:\n",
    "    tmp = []\n",
    "    for j in i:\n",
    "        if(j == 0):\n",
    "            tmp.append([255,255,255])\n",
    "        else:\n",
    "            tmp.append([0,0,0])\n",
    "    pred1_mask.append(tmp)\n",
    "pred1_mask = np.array(pred1_mask)\n",
    "cv.imwrite('./result/Segmentation1.jpg', pred1_mask)\n",
    "plt.imshow(pred1_mask)"
   ]
  },
  {
   "cell_type": "markdown",
   "id": "052669c6",
   "metadata": {},
   "source": [
    "## Scenario 2:\n",
    "以 M1 針對 soccer2.jpg 做測試\n",
    "### Test by soccer2.jpg"
   ]
  },
  {
   "cell_type": "code",
   "execution_count": 9,
   "id": "043faa03",
   "metadata": {},
   "outputs": [],
   "source": [
    "img2 = cv.imread('soccer2.jpg')\n",
    "soccer2 = img2.reshape((-1,3))\n",
    "prediction2 = GMM_model.predict(soccer2)"
   ]
  },
  {
   "cell_type": "markdown",
   "id": "0a8ef013",
   "metadata": {},
   "source": [
    "### Evaluation"
   ]
  },
  {
   "cell_type": "code",
   "execution_count": 10,
   "id": "18c1f9bd",
   "metadata": {},
   "outputs": [],
   "source": [
    "soccer2_mask = pd.read_csv('soccer2_mask.csv',)\n",
    "test2 = np.array(soccer2_mask['GT (True/False)'])\n",
    "test2 = test2.reshape((-1, 1))"
   ]
  },
  {
   "cell_type": "code",
   "execution_count": 11,
   "id": "76040d36",
   "metadata": {},
   "outputs": [
    {
     "name": "stdout",
     "output_type": "stream",
     "text": [
      "Scenario 2 GMM silhouette score:  0.8544204153889856\n"
     ]
    }
   ],
   "source": [
    "print(\"Scenario 2 GMM silhouette score: \", silhouette_score(test2, prediction2))"
   ]
  },
  {
   "cell_type": "markdown",
   "id": "e96cf594",
   "metadata": {},
   "source": [
    "### Segmentation result"
   ]
  },
  {
   "cell_type": "code",
   "execution_count": 14,
   "id": "a242e1c3",
   "metadata": {},
   "outputs": [
    {
     "data": {
      "text/plain": [
       "<matplotlib.image.AxesImage at 0x23521e95fc8>"
      ]
     },
     "execution_count": 14,
     "metadata": {},
     "output_type": "execute_result"
    },
    {
     "data": {
      "image/png": "[encoded data removed]",
      "text/plain": [
       "<Figure size 432x288 with 1 Axes>"
      ]
     },
     "metadata": {
      "needs_background": "light"
     },
     "output_type": "display_data"
    }
   ],
   "source": [
    "prediction2 = prediction2.reshape(img2.shape[0],img2.shape[1])\n",
    "pred2_mask = []\n",
    "for i in prediction2:\n",
    "    tmp = []\n",
    "    for j in i:\n",
    "        if(j == 0):\n",
    "            tmp.append([255,255,255])\n",
    "        else:\n",
    "            tmp.append([0,0,0])\n",
    "    pred2_mask.append(tmp)\n",
    "pred2_mask = np.array(pred2_mask)\n",
    "cv.imwrite('./result/Segmentation2.jpg', pred2_mask)\n",
    "plt.imshow(pred2_mask)"
   ]
  }
 ],
 "metadata": {
  "kernelspec": {
   "display_name": "Python 3 (ipykernel)",
   "language": "python",
   "name": "python3"
  },
  "language_info": {
   "codemirror_mode": {
    "name": "ipython",
    "version": 3
   },
   "file_extension": ".py",
   "mimetype": "text/x-python",
   "name": "python",
   "nbconvert_exporter": "python",
   "pygments_lexer": "ipython3",
   "version": "3.7.13"
  }
 },
 "nbformat": 4,
 "nbformat_minor": 5
}
